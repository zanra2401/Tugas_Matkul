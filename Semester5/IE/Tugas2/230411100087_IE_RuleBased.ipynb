{
 "cells": [
  {
   "cell_type": "markdown",
   "id": "bb6b94d7",
   "metadata": {},
   "source": [
    "# LAPORAN RULE BASE INFORMATION EXTRACTION\n",
    "\n",
    "**NAMA: ZANUAR RIKZA ADITIYA**    \n",
    "**NIM: 230411100087**  "
   ]
  },
  {
   "cell_type": "markdown",
   "id": "36ed9280",
   "metadata": {},
   "source": [
    "### PROSES MENDOWNLOAD PDF DARI WEBSITE PUTUSAN"
   ]
  },
  {
   "cell_type": "code",
   "execution_count": null,
   "id": "332bc1e9",
   "metadata": {},
   "outputs": [],
   "source": [
    "import csv\n",
    "import requests\n",
    "\n",
    "def download_files_from_csv(csv_file_path, output_folder):\n",
    "    with open(csv_file_path, 'r') as file:\n",
    "        telah = 10\n",
    "        now = 0\n",
    "        csv_reader = csv.reader(file)\n",
    "        next(csv_reader)  # Skip header row if present\n",
    "        for row in csv_reader:\n",
    "            \n",
    "            if telah <= now:\n",
    "                continue\n",
    "                \n",
    "            url = row[20]  # assuming the URL is in the first column\n",
    "            if url != \"\":\n",
    "                download_file(url, output_folder)\n",
    "            now += 1\n",
    "\n",
    "def download_file(url, output_folder):\n",
    "    response = requests.get(url)\n",
    "    if response.status_code == 200:\n",
    "        file_name = url.split(\"/\")[-1]\n",
    "        file_path = f\"{output_folder}/{file_name}.pdf\"\n",
    "        with open(file_path, 'wb') as file:\n",
    "            file.write(response.content)\n",
    "        print(f\"Downloaded: {file_name}\")\n",
    "    else:\n",
    "        print(f\"Failed to download: {url}\")\n",
    "\n",
    "if __name__ == \"__main__\":\n",
    "    csv_file_path = \"./data/metaPidanaUmum.csv\"  # Ubah path sesuai dengan lokasi file CSV Anda\n",
    "    output_folder = \"./file\"  # Ubah path sesuai dengan lokasi folder output Anda\n",
    "    download_files_from_csv(csv_file_path, output_folder)\n"
   ]
  }
 ],
 "metadata": {
  "language_info": {
   "name": "python"
  }
 },
 "nbformat": 4,
 "nbformat_minor": 5
}
