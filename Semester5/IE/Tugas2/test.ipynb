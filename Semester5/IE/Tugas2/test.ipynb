{
 "cells": [
  {
   "cell_type": "code",
   "execution_count": 2,
   "id": "98f3cc2a",
   "metadata": {},
   "outputs": [],
   "source": [
    "import pdfplumber"
   ]
  },
  {
   "cell_type": "code",
   "execution_count": null,
   "id": "079035bc",
   "metadata": {},
   "outputs": [],
   "source": [
    "with pdfplumber.open(\"putusan1.pdf\") as pdf, open(\"output.txt\", \"w\", encoding=\"utf-8\") as file:\n",
    "    for page in pdf.pages:\n",
    "        text = page.extract_text()\n",
    "        if text:\n",
    "            arr_text = text.split(\"\\n\")\n",
    "            valid = \"\"\n",
    "            for word in text:\n",
    "                pass\n",
    "\n",
    "\n",
    "def valid_word(element):\n",
    "    if len(element) <= 2:\n",
    "        return False\n",
    "\n",
    "    return True"
   ]
  },
  {
   "cell_type": "code",
   "execution_count": 7,
   "id": "a048cfc0",
   "metadata": {},
   "outputs": [],
   "source": [
    "import os\n",
    "\n",
    "dir_path = os.listdir(\"./pdf/\")\n",
    "\n",
    "from pypdf import PdfReader\n",
    "\n",
    "for filename in dir_path:\n",
    "    reader = PdfReader( \"./pdf/\" + filename)\n",
    "    pages = reader.pages\n",
    "    with open(f\"./INPUT/{filename.split(\".\")[0]}.txt\", \"w\", encoding=\"utf-8\") as file:\n",
    "        for page in pages:\n",
    "            file.writelines(page.extract_text())"
   ]
  },
  {
   "cell_type": "code",
   "execution_count": null,
   "id": "70fdd9aa",
   "metadata": {},
   "outputs": [
    {
     "ename": "NameError",
     "evalue": "name 're' is not defined",
     "output_type": "error",
     "traceback": [
      "\u001b[31m---------------------------------------------------------------------------\u001b[39m",
      "\u001b[31mNameError\u001b[39m                                 Traceback (most recent call last)",
      "\u001b[36mCell\u001b[39m\u001b[36m \u001b[39m\u001b[32mIn[5]\u001b[39m\u001b[32m, line 7\u001b[39m\n\u001b[32m      1\u001b[39m data = \u001b[33m'''\u001b[39m\u001b[33mMenyatakan terdakwa bersalah melakukan tindak pidana “Dengan sengaja\u001b[39m\n\u001b[32m      2\u001b[39m \u001b[33mmembujuk Anak untuk melakukan persetubuhan dengannya, dilakukan oleh\u001b[39m\n\u001b[32m      3\u001b[39m \u001b[33mpendidik,  tenaga  kependidikan,  yang  dilakukan  secara  berlanjut ”\u001b[39m\n\u001b[32m      4\u001b[39m \u001b[33msebagaimana diatur dalam Pasal 81 ayat (2), ayat (3) Undang Undang Nomor\u001b[39m\n\u001b[32m      5\u001b[39m \u001b[33m17 Tahun 2016 jo. Undang Undang Nomor 35 Tahun 2014 tentang Perubahan\u001b[39m\u001b[33m'''\u001b[39m\n\u001b[32m----> \u001b[39m\u001b[32m7\u001b[39m \u001b[38;5;28mprint\u001b[39m(\u001b[43mre\u001b[49m.find())\n",
      "\u001b[31mNameError\u001b[39m: name 're' is not defined"
     ]
    }
   ],
   "source": []
  }
 ],
 "metadata": {
  "kernelspec": {
   "display_name": "Python 3",
   "language": "python",
   "name": "python3"
  },
  "language_info": {
   "codemirror_mode": {
    "name": "ipython",
    "version": 3
   },
   "file_extension": ".py",
   "mimetype": "text/x-python",
   "name": "python",
   "nbconvert_exporter": "python",
   "pygments_lexer": "ipython3",
   "version": "3.13.5"
  }
 },
 "nbformat": 4,
 "nbformat_minor": 5
}
