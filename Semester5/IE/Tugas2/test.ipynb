{
 "cells": [
  {
   "cell_type": "code",
   "execution_count": 2,
   "id": "98f3cc2a",
   "metadata": {},
   "outputs": [],
   "source": [
    "import pdfplumber"
   ]
  },
  {
   "cell_type": "code",
   "execution_count": null,
   "id": "079035bc",
   "metadata": {},
   "outputs": [],
   "source": [
    "with pdfplumber.open(\"putusan1.pdf\") as pdf, open(\"output.txt\", \"w\", encoding=\"utf-8\") as file:\n",
    "    for page in pdf.pages:\n",
    "        text = page.extract_text()\n",
    "        if text:\n",
    "            arr_text = text.split(\"\\n\")\n",
    "            valid = \"\"\n",
    "            for word in text:\n",
    "                pass\n",
    "\n",
    "\n",
    "def valid_word(element):\n",
    "    if len(element) <= 2:\n",
    "        return False\n",
    "\n",
    "    return True\n",
    "\n",
    "\n"
   ]
  },
  {
   "cell_type": "code",
   "execution_count": null,
   "id": "a048cfc0",
   "metadata": {},
   "outputs": [],
   "source": []
  }
 ],
 "metadata": {
  "kernelspec": {
   "display_name": "Python 3",
   "language": "python",
   "name": "python3"
  },
  "language_info": {
   "codemirror_mode": {
    "name": "ipython",
    "version": 3
   },
   "file_extension": ".py",
   "mimetype": "text/x-python",
   "name": "python",
   "nbconvert_exporter": "python",
   "pygments_lexer": "ipython3",
   "version": "3.12.4"
  }
 },
 "nbformat": 4,
 "nbformat_minor": 5
}
