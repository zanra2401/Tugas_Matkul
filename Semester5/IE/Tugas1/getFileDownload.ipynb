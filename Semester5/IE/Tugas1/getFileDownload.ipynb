{
 "cells": [
  {
   "cell_type": "code",
   "execution_count": null,
   "id": "1c77d7e6",
   "metadata": {},
   "outputs": [
    {
     "name": "stdout",
     "output_type": "stream",
     "text": [
      "Failed to download: https://putusan3.mahkamahagung.go.id/direktori/download_file/13e9249a97f430798546fbc81a2b7988/pdf/zaeef26f12c1f5f2a449313733353336\n",
      "Downloaded: zaeef26f0bdcace6b072313733353234\n",
      "Downloaded: zaeef26f00752a688650313733353035\n"
     ]
    }
   ],
   "source": [
    "import csv\n",
    "import requests\n",
    "\n",
    "def download_files_from_csv(csv_file_path, output_folder):\n",
    "    with open(csv_file_path, 'r') as file:\n",
    "        telah = 10\n",
    "        now = 0\n",
    "        csv_reader = csv.reader(file)\n",
    "        next(csv_reader)  # Skip header row if present\n",
    "        for row in csv_reader:\n",
    "            \n",
    "            if telah <= now:\n",
    "                continue\n",
    "                \n",
    "            url = row[20]  # assuming the URL is in the first column\n",
    "            if url != \"\":\n",
    "                download_file(url, output_folder)\n",
    "            now += 1\n",
    "\n",
    "def download_file(url, output_folder):\n",
    "    response = requests.get(url)\n",
    "    if response.status_code == 200:\n",
    "        file_name = url.split(\"/\")[-1]\n",
    "        file_path = f\"{output_folder}/{file_name}.pdf\"\n",
    "        with open(file_path, 'wb') as file:\n",
    "            file.write(response.content)\n",
    "        print(f\"Downloaded: {file_name}\")\n",
    "    else:\n",
    "        print(f\"Failed to download: {url}\")\n",
    "\n",
    "if __name__ == \"__main__\":\n",
    "    csv_file_path = \"./data/metaPidanaUmum.csv\"  # Ubah path sesuai dengan lokasi file CSV Anda\n",
    "    output_folder = \"./file\"  # Ubah path sesuai dengan lokasi folder output Anda\n",
    "    download_files_from_csv(csv_file_path, output_folder)\n"
   ]
  },
  {
   "cell_type": "code",
   "execution_count": null,
   "id": "68385d41",
   "metadata": {},
   "outputs": [],
   "source": []
  }
 ],
 "metadata": {
  "kernelspec": {
   "display_name": "Python 3",
   "language": "python",
   "name": "python3"
  },
  "language_info": {
   "codemirror_mode": {
    "name": "ipython",
    "version": 3
   },
   "file_extension": ".py",
   "mimetype": "text/x-python",
   "name": "python",
   "nbconvert_exporter": "python",
   "pygments_lexer": "ipython3",
   "version": "3.13.5"
  }
 },
 "nbformat": 4,
 "nbformat_minor": 5
}
