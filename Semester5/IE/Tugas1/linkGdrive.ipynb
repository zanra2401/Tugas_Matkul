{
 "cells": [
  {
   "cell_type": "markdown",
   "id": "6813a654",
   "metadata": {},
   "source": [
    "# Link Sharing Hasil Scraping"
   ]
  },
  {
   "cell_type": "markdown",
   "id": "3ff13d9c",
   "metadata": {},
   "source": [
    "**NAMA: Zanuar Rikza Aditiya**  \n",
    "**NIM: 230411100087**  \n",
    "**MATA KULIAH: EKSTRAKSI INFORMASI A**  "
   ]
  },
  {
   "cell_type": "markdown",
   "id": "e6a3ffb3",
   "metadata": {},
   "source": [
    "**Link Hasil Scraping:**  \n",
    "[Link Hasil Scraping](https://drive.google.com/drive/folders/1HsV2XiIcreEn6C_wNjAKXhiGcDq6kT_x?usp=sharing)  "
   ]
  }
 ],
 "metadata": {
  "language_info": {
   "name": "python"
  }
 },
 "nbformat": 4,
 "nbformat_minor": 5
}
