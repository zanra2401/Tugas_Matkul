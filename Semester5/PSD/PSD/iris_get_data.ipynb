{
 "cells": [
  {
   "cell_type": "markdown",
   "id": "7e46621d",
   "metadata": {},
   "source": [
    "# Mendapatkan data"
   ]
  },
  {
   "cell_type": "markdown",
   "id": "1d27f120",
   "metadata": {},
   "source": [
    "Data didapatkan dari dua database berbeda yaitu database MySQL dan PostgreSQL:  \n",
    "\n",
    "1. data di MySQL berupa:  \n",
    "    - sepal_length\n",
    "    - sepal_width  \n",
    "\n",
    "1. data di PostgreSQL berupa:\n",
    "    - petal_legnth\n",
    "    - petal_width\n",
    "    - species\n",
    "\n",
    "Berikut code python untuk mengambil data dari MySQL ke Power BI\n",
    "```python\n",
    "\n",
    "import mysql.connector as myconnector\n",
    "import pandas as pd\n",
    "\n",
    "conn = myconnector.connect(\n",
    "    database=\"iris_db\",\n",
    "    host=\"localhost\",\n",
    "    user=\"root\",\n",
    "    password=\"\",\n",
    "    port=3306\n",
    ")\n",
    "\n",
    "sepal = pd.read_sql(\"SELECT * FROM iris_table\", conn)\n",
    "\n",
    "conn.close()\n",
    "\n",
    "```\n",
    "\n",
    "Berikut code python untuk mengambil data dari postger ke Power BI: \n",
    "\n",
    "```python\n",
    "import pandas as pd\n",
    "import psycopg2 as pgconnector\n",
    "\n",
    "conn = pgconnector.connect(\"dbname=iris_db host=localhost user=postgres password=zanra2401 port=2005\")\n",
    "\n",
    "petal_species = pd.read_sql(\"SELECT * FROM iris_table\", conn)\n",
    "\n",
    "conn.close()\n",
    "\n",
    "```\n",
    "\n",
    "lalu didalam Power BI data dimerge:\n",
    "\n",
    "![contoh data](iris.png)"
   ]
  },
  {
   "cell_type": "markdown",
   "id": "a2c7087d",
   "metadata": {},
   "source": []
  }
 ],
 "metadata": {
  "kernelspec": {
   "display_name": "Python 3",
   "language": "python",
   "name": "python3"
  },
  "language_info": {
   "codemirror_mode": {
    "name": "ipython",
    "version": 3
   },
   "file_extension": ".py",
   "mimetype": "text/x-python",
   "name": "python",
   "nbconvert_exporter": "python",
   "pygments_lexer": "ipython3",
   "version": "3.11.0"
  }
 },
 "nbformat": 4,
 "nbformat_minor": 5
}
