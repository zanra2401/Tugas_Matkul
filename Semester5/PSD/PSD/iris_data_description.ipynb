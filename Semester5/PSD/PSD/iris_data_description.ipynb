{
 "cells": [
  {
   "cell_type": "markdown",
   "id": "b711a4a8",
   "metadata": {},
   "source": [
    "# Deskripsi Data"
   ]
  },
  {
   "cell_type": "code",
   "execution_count": 1,
   "id": "005a1984",
   "metadata": {},
   "outputs": [],
   "source": [
    "import pandas as pd\n",
    "import numpy as np\n",
    "import mysql.connector as mysqlconnector\n",
    "import psycopg2 as pgconnector"
   ]
  },
  {
   "cell_type": "markdown",
   "id": "07570306",
   "metadata": {},
   "source": [
    "### Contoh Data"
   ]
  },
  {
   "cell_type": "code",
   "execution_count": 48,
   "id": "2d1ce5b8",
   "metadata": {},
   "outputs": [],
   "source": [
    "# Koneksi database postgresql\n",
    "\n",
    "pgconn = pgconnector.connect(\"dbname=iris_db user=postgres password=zanra2401 host=localhost port=2005\")\n",
    "\n",
    "pgcursor = pgconn.cursor()"
   ]
  },
  {
   "cell_type": "code",
   "execution_count": 49,
   "id": "2696af87",
   "metadata": {},
   "outputs": [],
   "source": [
    "# Koneksi Mysql\n",
    "\n",
    "myconn = mysqlconnector.connect(\n",
    "    host=\"localhost\",\n",
    "    port=3306,\n",
    "    user=\"root\",\n",
    "    password=\"\",\n",
    "    database=\"iris_db\"\n",
    ")\n",
    "\n",
    "mycursor = myconn.cursor()\n"
   ]
  },
  {
   "cell_type": "code",
   "execution_count": null,
   "id": "12be06a8",
   "metadata": {},
   "outputs": [],
   "source": [
    "# Mengambil data dari database postgresql\n",
    "\n",
    "pgcursor.execute(\"SELECT petal_length, petal_width, species FROM iris_table\")\n",
    "data_postgre = pgcursor.fetchall()"
   ]
  },
  {
   "cell_type": "code",
   "execution_count": null,
   "id": "58bb2b9e",
   "metadata": {},
   "outputs": [],
   "source": [
    "# Mengambil data dari databse MySql\n",
    "\n",
    "mycursor.execute(\"SELECT sepal_length, sepal_width FROM iris_table\")\n",
    "data_mysql = mycursor.fetchall()"
   ]
  },
  {
   "cell_type": "code",
   "execution_count": 52,
   "id": "0296449b",
   "metadata": {},
   "outputs": [],
   "source": [
    "mycursor.close()\n",
    "pgcursor.close()\n",
    "myconn.close()\n",
    "pgconn.close()"
   ]
  },
  {
   "cell_type": "code",
   "execution_count": 55,
   "id": "7555cafa",
   "metadata": {},
   "outputs": [],
   "source": [
    "# Gabung Data\n",
    "\n",
    "sepal = np.array(data_mysql)\n",
    "petal_species = np.array(data_postgre)\n",
    "\n",
    "iris = np.hstack((sepal, petal_species))"
   ]
  },
  {
   "cell_type": "code",
   "execution_count": 56,
   "id": "9d7d08be",
   "metadata": {},
   "outputs": [
    {
     "data": {
      "text/html": [
       "<div>\n",
       "<style scoped>\n",
       "    .dataframe tbody tr th:only-of-type {\n",
       "        vertical-align: middle;\n",
       "    }\n",
       "\n",
       "    .dataframe tbody tr th {\n",
       "        vertical-align: top;\n",
       "    }\n",
       "\n",
       "    .dataframe thead th {\n",
       "        text-align: right;\n",
       "    }\n",
       "</style>\n",
       "<table border=\"1\" class=\"dataframe\">\n",
       "  <thead>\n",
       "    <tr style=\"text-align: right;\">\n",
       "      <th></th>\n",
       "      <th>sepal_length</th>\n",
       "      <th>sepal_width</th>\n",
       "      <th>petal_length</th>\n",
       "      <th>petal_width</th>\n",
       "      <th>species</th>\n",
       "    </tr>\n",
       "  </thead>\n",
       "  <tbody>\n",
       "    <tr>\n",
       "      <th>0</th>\n",
       "      <td>5.10</td>\n",
       "      <td>3.50</td>\n",
       "      <td>1.40</td>\n",
       "      <td>0.20</td>\n",
       "      <td>Iris-setosa</td>\n",
       "    </tr>\n",
       "    <tr>\n",
       "      <th>1</th>\n",
       "      <td>4.90</td>\n",
       "      <td>3.00</td>\n",
       "      <td>1.40</td>\n",
       "      <td>0.20</td>\n",
       "      <td>Iris-setosa</td>\n",
       "    </tr>\n",
       "    <tr>\n",
       "      <th>2</th>\n",
       "      <td>4.70</td>\n",
       "      <td>3.20</td>\n",
       "      <td>1.30</td>\n",
       "      <td>0.20</td>\n",
       "      <td>Iris-setosa</td>\n",
       "    </tr>\n",
       "    <tr>\n",
       "      <th>3</th>\n",
       "      <td>4.60</td>\n",
       "      <td>3.10</td>\n",
       "      <td>1.50</td>\n",
       "      <td>0.20</td>\n",
       "      <td>Iris-setosa</td>\n",
       "    </tr>\n",
       "    <tr>\n",
       "      <th>4</th>\n",
       "      <td>5.00</td>\n",
       "      <td>3.60</td>\n",
       "      <td>1.40</td>\n",
       "      <td>0.20</td>\n",
       "      <td>Iris-setosa</td>\n",
       "    </tr>\n",
       "    <tr>\n",
       "      <th>...</th>\n",
       "      <td>...</td>\n",
       "      <td>...</td>\n",
       "      <td>...</td>\n",
       "      <td>...</td>\n",
       "      <td>...</td>\n",
       "    </tr>\n",
       "    <tr>\n",
       "      <th>145</th>\n",
       "      <td>6.70</td>\n",
       "      <td>3.00</td>\n",
       "      <td>5.20</td>\n",
       "      <td>2.30</td>\n",
       "      <td>Iris-virginica</td>\n",
       "    </tr>\n",
       "    <tr>\n",
       "      <th>146</th>\n",
       "      <td>6.30</td>\n",
       "      <td>2.50</td>\n",
       "      <td>5.00</td>\n",
       "      <td>1.90</td>\n",
       "      <td>Iris-virginica</td>\n",
       "    </tr>\n",
       "    <tr>\n",
       "      <th>147</th>\n",
       "      <td>6.50</td>\n",
       "      <td>3.00</td>\n",
       "      <td>5.20</td>\n",
       "      <td>2.00</td>\n",
       "      <td>Iris-virginica</td>\n",
       "    </tr>\n",
       "    <tr>\n",
       "      <th>148</th>\n",
       "      <td>6.20</td>\n",
       "      <td>3.40</td>\n",
       "      <td>5.40</td>\n",
       "      <td>2.30</td>\n",
       "      <td>Iris-virginica</td>\n",
       "    </tr>\n",
       "    <tr>\n",
       "      <th>149</th>\n",
       "      <td>5.90</td>\n",
       "      <td>3.00</td>\n",
       "      <td>5.10</td>\n",
       "      <td>1.80</td>\n",
       "      <td>Iris-virginica</td>\n",
       "    </tr>\n",
       "  </tbody>\n",
       "</table>\n",
       "<p>150 rows × 5 columns</p>\n",
       "</div>"
      ],
      "text/plain": [
       "    sepal_length sepal_width petal_length petal_width         species\n",
       "0           5.10        3.50         1.40        0.20     Iris-setosa\n",
       "1           4.90        3.00         1.40        0.20     Iris-setosa\n",
       "2           4.70        3.20         1.30        0.20     Iris-setosa\n",
       "3           4.60        3.10         1.50        0.20     Iris-setosa\n",
       "4           5.00        3.60         1.40        0.20     Iris-setosa\n",
       "..           ...         ...          ...         ...             ...\n",
       "145         6.70        3.00         5.20        2.30  Iris-virginica\n",
       "146         6.30        2.50         5.00        1.90  Iris-virginica\n",
       "147         6.50        3.00         5.20        2.00  Iris-virginica\n",
       "148         6.20        3.40         5.40        2.30  Iris-virginica\n",
       "149         5.90        3.00         5.10        1.80  Iris-virginica\n",
       "\n",
       "[150 rows x 5 columns]"
      ]
     },
     "execution_count": 56,
     "metadata": {},
     "output_type": "execute_result"
    }
   ],
   "source": [
    "# Iris DataFrame\n",
    "\n",
    "iris_dataframe = pd.DataFrame(iris, columns=['sepal_length', 'sepal_width', 'petal_length', 'petal_width', 'species'])\n",
    "iris_dataframe"
   ]
  },
  {
   "cell_type": "markdown",
   "id": "0c4b32cc",
   "metadata": {},
   "source": [
    "### Jumlah Baris, Kolom, Nama Atribut dan Tipe Data"
   ]
  },
  {
   "cell_type": "code",
   "execution_count": 57,
   "id": "c020ae55",
   "metadata": {},
   "outputs": [
    {
     "name": "stdout",
     "output_type": "stream",
     "text": [
      "Baris:  150\n",
      "Kolom:  5\n"
     ]
    }
   ],
   "source": [
    "print(\"Baris: \", iris_dataframe.shape[0])\n",
    "print(\"Kolom: \", iris_dataframe.shape[1])"
   ]
  },
  {
   "cell_type": "markdown",
   "id": "d9858757",
   "metadata": {},
   "source": [
    "Data dari dataset iris tersebut memiliki jumlah baris dan kolom sebagai berikut:  \n",
    "\n",
    "Baris: 150 baris  \n",
    "Kolom: 5 kolom  \n",
    "\n",
    "Data tersebut memiliki Atribut memiliki dengan nama sebagai berikut:  \n",
    "1. sepal_lenght : Tipe Data merupakan Numerik (Continous) \n",
    "2. sepal_width : Tipe Data merupakan Numerik (Continous) \n",
    "3. petal_lenght : Tipe Data merupakan Numerik (Continous) \n",
    "4. petal_width : Tipe Data merupakan Numerik (Continous) \n",
    "5. species : Tipe Data Merupakan Kategorikal\n",
    "\n"
   ]
  }
 ],
 "metadata": {
  "kernelspec": {
   "display_name": "Python 3",
   "language": "python",
   "name": "python3"
  },
  "language_info": {
   "codemirror_mode": {
    "name": "ipython",
    "version": 3
   },
   "file_extension": ".py",
   "mimetype": "text/x-python",
   "name": "python",
   "nbconvert_exporter": "python",
   "pygments_lexer": "ipython3",
   "version": "3.11.0"
  }
 },
 "nbformat": 4,
 "nbformat_minor": 5
}
