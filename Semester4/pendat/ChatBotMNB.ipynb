{
 "cells": [
  {
   "cell_type": "code",
   "execution_count": null,
   "id": "25634c18",
   "metadata": {},
   "outputs": [
    {
     "name": "stderr",
     "output_type": "stream",
     "text": [
      "[nltk_data] Downloading package punkt_tab to\n",
      "[nltk_data]     C:\\Users\\grubg\\AppData\\Roaming\\nltk_data...\n",
      "[nltk_data]   Unzipping tokenizers\\punkt_tab.zip.\n",
      "[nltk_data] Downloading package stopwords to\n",
      "[nltk_data]     C:\\Users\\grubg\\AppData\\Roaming\\nltk_data...\n",
      "[nltk_data]   Package stopwords is already up-to-date!\n"
     ]
    },
    {
     "data": {
      "text/plain": [
       "True"
      ]
     },
     "execution_count": 1,
     "metadata": {},
     "output_type": "execute_result"
    }
   ],
   "source": [
    "import json\n",
    "import random\n",
    "import nltk\n",
    "from sklearn.feature_extraction.text import CountVectorizer\n",
    "from sklearn.naive_bayes import MultinomialNB\n",
    "from sklearn.pipeline import Pipeline\n",
    "from nltk.stem import PorterStemmer\n",
    "from nltk.corpus import stopwords\n",
    "# Unduh resource NLTK\n",
    "# nltk.download('punkt_tab')\n",
    "# nltk.download('stopwords')"
   ]
  },
  {
   "cell_type": "code",
   "execution_count": null,
   "id": "70461101",
   "metadata": {},
   "outputs": [
    {
     "ename": "KeyError",
     "evalue": "'intetns'",
     "output_type": "error",
     "traceback": [
      "\u001b[1;31m---------------------------------------------------------------------------\u001b[0m",
      "\u001b[1;31mKeyError\u001b[0m                                  Traceback (most recent call last)",
      "Cell \u001b[1;32mIn[4], line 18\u001b[0m\n\u001b[0;32m     16\u001b[0m y \u001b[38;5;241m=\u001b[39m []\n\u001b[0;32m     17\u001b[0m responses \u001b[38;5;241m=\u001b[39m {}\n\u001b[1;32m---> 18\u001b[0m \u001b[38;5;28;01mfor\u001b[39;00m intent \u001b[38;5;129;01min\u001b[39;00m \u001b[43mdata\u001b[49m\u001b[43m[\u001b[49m\u001b[38;5;124;43m\"\u001b[39;49m\u001b[38;5;124;43mintetns\u001b[39;49m\u001b[38;5;124;43m\"\u001b[39;49m\u001b[43m]\u001b[49m:\n\u001b[0;32m     19\u001b[0m     tag \u001b[38;5;241m=\u001b[39m intent[\u001b[38;5;124m\"\u001b[39m\u001b[38;5;124mtag\u001b[39m\u001b[38;5;124m\"\u001b[39m]\n\u001b[0;32m     20\u001b[0m     \u001b[38;5;28;01mfor\u001b[39;00m pattern \u001b[38;5;129;01min\u001b[39;00m intent[\u001b[38;5;124m\"\u001b[39m\u001b[38;5;124mpatterns\u001b[39m\u001b[38;5;124m\"\u001b[39m]:\n",
      "\u001b[1;31mKeyError\u001b[0m: 'intetns'"
     ]
    }
   ],
   "source": [
    "# Load dataset\n",
    "with open(\"./Assets/e-commerce.json\", \"r\", encoding=\"utf-8\") as file:\n",
    "    data = json.load(file)\n",
    "\n",
    "# Preprocessing helper\n",
    "stemmer = PorterStemmer()\n",
    "stop_words = set(stopwords.words('english'))\n",
    "\n",
    "def preprocess(text):\n",
    "    tokens = nltk.word_tokenize(text.lower())\n",
    "    tokens = [stemmer.stem(t) for t in tokens if t.isalpha() and t not in stop_words]\n",
    "    return \" \".join(tokens)\n",
    "\n",
    "# Siapkan data training\n",
    "X = []\n",
    "y = []\n",
    "responses = {}\n",
    "for intent in data[\"intents\"]:\n",
    "    tag = intent[\"tag\"]\n",
    "    for pattern in intent[\"patterns\"]:\n",
    "        X.append(preprocess(pattern))\n",
    "        y.append(tag)\n",
    "    responses[tag] = intent[\"responses\"]\n",
    "\n",
    "print(type(X))\n",
    "# Cek Data\n",
    "print(len(X), len(y))\n",
    "for i in range(16):\n",
    "    print(X[i], '\\t', y[i])\n",
    "\n",
    "print('...')\n",
    "for i in range(4000, 4016):\n",
    "    print(X[i], '\\t', y[i])\n",
    "    \n",
    "print('...')\n",
    "for i in range(len(X)-1, len(X)-21, -1):\n",
    "    print(X[i], '\\t', y[i])"
   ]
  },
  {
   "cell_type": "code",
   "execution_count": null,
   "id": "2f0da332",
   "metadata": {},
   "outputs": [],
   "source": [
    "# Buat pipeline: CountVectorizer + MNB\n",
    "model = Pipeline([\n",
    "    (\"vectorizer\", CountVectorizer()),\n",
    "    (\"classifier\", MultinomialNB())\n",
    "])\n",
    "\n",
    "print(model)"
   ]
  },
  {
   "cell_type": "code",
   "execution_count": null,
   "id": "6d6bf5cb",
   "metadata": {},
   "outputs": [],
   "source": [
    "import numpy as np\n",
    "\n",
    "# Train model\n",
    "model.fit(X, y)\n",
    "\n",
    "def chat():\n",
    "    print(\"Chatbot siap! (Ketik 'keluar' untuk berhenti)\\n\")\n",
    "    while True:\n",
    "        user_input = input(\"Kamu: \")\n",
    "        if user_input.lower() == \"keluar\":\n",
    "            print(\"Bot: Sampai jumpa!\")\n",
    "            break\n",
    "\n",
    "        preprocessed = preprocess(user_input)\n",
    "        proba = model.predict_proba([preprocessed])[0]\n",
    "        max_proba = np.max(proba)\n",
    "\n",
    "        if max_proba < 0.2:\n",
    "            print(\"Sorry I’m don’t understand\")\n",
    "        else:\n",
    "            predicted_intent = model.classes_[np.argmax(proba)]\n",
    "            response = random.choice(responses[predicted_intent])\n",
    "            print(\"Bot:\", response)\n",
    "\n",
    "# Jalankan chatbot\n",
    "if __name__ == \"__main__\":\n",
    "    chat()\n"
   ]
  },
  {
   "cell_type": "code",
   "execution_count": null,
   "id": "f648ee75",
   "metadata": {},
   "outputs": [],
   "source": [
    "import pickle\n",
    "with open(\"model_chatbot.pkl\", \"wb\") as model_file:\n",
    "    pickle.dump(model, model_file)\n"
   ]
  }
 ],
 "metadata": {
  "kernelspec": {
   "display_name": "Python 3",
   "language": "python",
   "name": "python3"
  },
  "language_info": {
   "codemirror_mode": {
    "name": "ipython",
    "version": 3
   },
   "file_extension": ".py",
   "mimetype": "text/x-python",
   "name": "python",
   "nbconvert_exporter": "python",
   "pygments_lexer": "ipython3",
   "version": "3.12.4"
  }
 },
 "nbformat": 4,
 "nbformat_minor": 5
}
